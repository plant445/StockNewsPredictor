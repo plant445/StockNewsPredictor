{
 "metadata": {
  "kernelspec": {
   "language": "python",
   "display_name": "Python 3",
   "name": "python3"
  },
  "language_info": {
   "name": "python",
   "version": "3.10.10",
   "mimetype": "text/x-python",
   "codemirror_mode": {
    "name": "ipython",
    "version": 3
   },
   "pygments_lexer": "ipython3",
   "nbconvert_exporter": "python",
   "file_extension": ".py"
  },
  "kaggle": {
   "accelerator": "gpu",
   "dataSources": [
    {
     "sourceId": 792900,
     "sourceType": "datasetVersion",
     "datasetId": 129
    }
   ],
   "dockerImageVersionId": 30513,
   "isInternetEnabled": false,
   "language": "python",
   "sourceType": "notebook",
   "isGpuEnabled": true
  }
 },
 "nbformat_minor": 4,
 "nbformat": 4,
 "cells": [
  {
   "cell_type": "markdown",
   "source": "# Stock News torch RoBERTa",
   "metadata": {}
  },
  {
   "cell_type": "code",
   "source": "!pip install chardet",
   "metadata": {
    "papermill": {
     "duration": 13.253789,
     "end_time": "2023-06-28T07:17:40.715086",
     "exception": false,
     "start_time": "2023-06-28T07:17:27.461297",
     "status": "completed"
    },
    "tags": [],
    "execution": {
     "iopub.status.busy": "2024-05-22T14:35:46.037508Z",
     "iopub.execute_input": "2024-05-22T14:35:46.037994Z",
     "iopub.status.idle": "2024-05-22T14:36:00.162554Z",
     "shell.execute_reply.started": "2024-05-22T14:35:46.037953Z",
     "shell.execute_reply": "2024-05-22T14:36:00.161438Z"
    },
    "trusted": true
   },
   "outputs": [],
   "execution_count": null
  },
  {
   "cell_type": "code",
   "source": "debug = False\ndebug2 = False",
   "metadata": {
    "papermill": {
     "duration": 0.020191,
     "end_time": "2023-06-28T07:17:40.747178",
     "exception": false,
     "start_time": "2023-06-28T07:17:40.726987",
     "status": "completed"
    },
    "tags": [],
    "execution": {
     "iopub.status.busy": "2024-05-22T14:36:00.164751Z",
     "iopub.execute_input": "2024-05-22T14:36:00.165087Z",
     "iopub.status.idle": "2024-05-22T14:36:00.170014Z",
     "shell.execute_reply.started": "2024-05-22T14:36:00.165054Z",
     "shell.execute_reply": "2024-05-22T14:36:00.168996Z"
    },
    "trusted": true
   },
   "outputs": [],
   "execution_count": null
  },
  {
   "cell_type": "code",
   "source": [
    "import numpy as np \n",
    "import pandas as pd \n",
    "import os\n",
    "from sklearn.metrics import mean_squared_error\n",
    "from sklearn.model_selection import StratifiedKFold\n",
    "import torch\n",
    "import torch.nn as nn\n",
    "from torch.utils.data import DataLoader, Dataset\n",
    "from tqdm import tqdm\n",
    "import matplotlib.pyplot as plt \n",
    "import transformers\n",
    "import random\n",
    "import warnings\n",
    "warnings.simplefilter('ignore')\n",
    "scaler = torch.cuda.amp.GradScaler() \n",
    "device = torch.device('cuda' if torch.cuda.is_available() else 'cpu')\n",
    "torch.device(\"mps\")"
   ],
   "metadata": {
    "papermill": {
     "duration": 6.118647,
     "end_time": "2023-06-28T07:17:46.877542",
     "exception": false,
     "start_time": "2023-06-28T07:17:40.758895",
     "status": "completed"
    },
    "tags": [],
    "execution": {
     "iopub.status.busy": "2024-05-22T14:36:00.171379Z",
     "iopub.execute_input": "2024-05-22T14:36:00.171694Z",
     "iopub.status.idle": "2024-05-22T14:36:05.526771Z",
     "shell.execute_reply.started": "2024-05-22T14:36:00.17167Z",
     "shell.execute_reply": "2024-05-22T14:36:05.525673Z"
    },
    "trusted": true
   },
   "outputs": [],
   "execution_count": null
  },
  {
   "cell_type": "code",
   "source": "def random_seed(SEED):\n    \n    random.seed(SEED)\n    os.environ['PYTHONHASHSEED'] = str(SEED)\n    np.random.seed(SEED)\n    torch.manual_seed(SEED)\n    torch.cuda.manual_seed(SEED)\n    torch.cuda.manual_seed_all(SEED)\n    torch.backends.cudnn.deterministic = True\n    \nSEED = 508\nrandom_seed(SEED)",
   "metadata": {
    "papermill": {
     "duration": 0.026662,
     "end_time": "2023-06-28T07:17:46.916292",
     "exception": false,
     "start_time": "2023-06-28T07:17:46.88963",
     "status": "completed"
    },
    "tags": [],
    "execution": {
     "iopub.status.busy": "2024-05-22T14:36:05.529531Z",
     "iopub.execute_input": "2024-05-22T14:36:05.530511Z",
     "iopub.status.idle": "2024-05-22T14:36:05.54173Z",
     "shell.execute_reply.started": "2024-05-22T14:36:05.53048Z",
     "shell.execute_reply": "2024-05-22T14:36:05.540823Z"
    },
    "trusted": true
   },
   "outputs": [],
   "execution_count": null
  },
  {
   "cell_type": "code",
   "source": [
    "data=pd.read_csv('news.csv')\n",
    "n=len(data)\n",
    "N=list(range(n))\n",
    "random.shuffle(N)\n",
    "data=data.iloc[N[0:2000],1:3]\n",
    "display(data)"
   ],
   "metadata": {
    "execution": {
     "iopub.status.busy": "2024-05-22T14:36:05.54318Z",
     "iopub.execute_input": "2024-05-22T14:36:05.543613Z",
     "iopub.status.idle": "2024-05-22T14:36:06.121778Z",
     "shell.execute_reply.started": "2024-05-22T14:36:05.543575Z",
     "shell.execute_reply": "2024-05-22T14:36:06.120778Z"
    },
    "trusted": true
   },
   "outputs": [],
   "execution_count": null
  },
  {
   "cell_type": "code",
   "source": "data.columns=['label','text']\nclass_names=sorted(data['label'].unique().tolist())\nprint(class_names)\nN=list(range(len(class_names)))\nnormal_mapping=dict(zip(class_names,N)) \nreverse_mapping=dict(zip(N,class_names))       \ndata['label']=data['label'].map(normal_mapping)                   ",
   "metadata": {
    "papermill": {
     "duration": 0.240253,
     "end_time": "2023-06-28T07:18:29.143156",
     "exception": false,
     "start_time": "2023-06-28T07:18:28.902903",
     "status": "completed"
    },
    "tags": [],
    "execution": {
     "iopub.status.busy": "2024-04-21T15:27:00.600551Z",
     "iopub.execute_input": "2024-04-21T15:27:00.600848Z",
     "iopub.status.idle": "2024-04-21T15:27:00.617294Z",
     "shell.execute_reply.started": "2024-04-21T15:27:00.600822Z",
     "shell.execute_reply": "2024-04-21T15:27:00.616443Z"
    },
    "trusted": true
   },
   "outputs": [],
   "execution_count": null
  },
  {
   "cell_type": "code",
   "source": "from sklearn.model_selection import train_test_split\ntrain, test = train_test_split(data, test_size=0.2, random_state=42)",
   "metadata": {
    "papermill": {
     "duration": 0.026581,
     "end_time": "2023-06-28T07:18:29.183917",
     "exception": false,
     "start_time": "2023-06-28T07:18:29.157336",
     "status": "completed"
    },
    "tags": [],
    "execution": {
     "iopub.status.busy": "2024-04-21T15:27:00.618357Z",
     "iopub.execute_input": "2024-04-21T15:27:00.618653Z",
     "iopub.status.idle": "2024-04-21T15:27:00.668866Z",
     "shell.execute_reply.started": "2024-04-21T15:27:00.618628Z",
     "shell.execute_reply": "2024-04-21T15:27:00.667944Z"
    },
    "trusted": true
   },
   "outputs": [],
   "execution_count": null
  },
  {
   "cell_type": "code",
   "source": "#tokenizer = transformers.BertTokenizer.from_pretrained(\"../input/bert-base-uncased\")\ntokenizer = transformers.RobertaTokenizer.from_pretrained(\"roberta-base\")",
   "metadata": {
    "papermill": {
     "duration": 2.112898,
     "end_time": "2023-06-28T07:18:31.309109",
     "exception": false,
     "start_time": "2023-06-28T07:18:29.196211",
     "status": "completed"
    },
    "tags": [],
    "execution": {
     "iopub.status.busy": "2024-04-21T15:27:00.67012Z",
     "iopub.execute_input": "2024-04-21T15:27:00.670721Z",
     "iopub.status.idle": "2024-04-21T15:27:04.921664Z",
     "shell.execute_reply.started": "2024-04-21T15:27:00.670688Z",
     "shell.execute_reply": "2024-04-21T15:27:04.92069Z"
    },
    "trusted": true
   },
   "outputs": [],
   "execution_count": null
  },
  {
   "cell_type": "code",
   "source": "test_s = train['text'].iloc[0]\n\nresult1 = tokenizer.encode_plus(test_s)\n\ntokenizer.decode(result1[\"input_ids\"])",
   "metadata": {
    "papermill": {
     "duration": 5.697647,
     "end_time": "2023-06-28T07:18:37.019837",
     "exception": false,
     "start_time": "2023-06-28T07:18:31.32219",
     "status": "completed"
    },
    "tags": [],
    "execution": {
     "iopub.status.busy": "2024-04-21T15:27:04.923052Z",
     "iopub.execute_input": "2024-04-21T15:27:04.923347Z",
     "iopub.status.idle": "2024-04-21T15:27:11.313477Z",
     "shell.execute_reply.started": "2024-04-21T15:27:04.923321Z",
     "shell.execute_reply": "2024-04-21T15:27:11.312494Z"
    },
    "trusted": true
   },
   "outputs": [],
   "execution_count": null
  },
  {
   "cell_type": "code",
   "source": "len(test_s.split(\" \"))",
   "metadata": {
    "papermill": {
     "duration": 0.022816,
     "end_time": "2023-06-28T07:18:37.055794",
     "exception": false,
     "start_time": "2023-06-28T07:18:37.032978",
     "status": "completed"
    },
    "tags": [],
    "execution": {
     "iopub.status.busy": "2024-04-21T15:27:11.314643Z",
     "iopub.execute_input": "2024-04-21T15:27:11.31493Z",
     "iopub.status.idle": "2024-04-21T15:27:11.32222Z",
     "shell.execute_reply.started": "2024-04-21T15:27:11.314899Z",
     "shell.execute_reply": "2024-04-21T15:27:11.321279Z"
    },
    "trusted": true
   },
   "outputs": [],
   "execution_count": null
  },
  {
   "cell_type": "code",
   "source": "result2 = tokenizer.encode_plus(\n    test_s,\n    add_special_tokens = True, \n    max_length = 32, \n    pad_to_max_length = True, \n    truncation = True \n)",
   "metadata": {
    "papermill": {
     "duration": 0.020965,
     "end_time": "2023-06-28T07:18:37.089429",
     "exception": false,
     "start_time": "2023-06-28T07:18:37.068464",
     "status": "completed"
    },
    "tags": [],
    "execution": {
     "iopub.status.busy": "2024-04-21T15:27:11.326177Z",
     "iopub.execute_input": "2024-04-21T15:27:11.326432Z",
     "iopub.status.idle": "2024-04-21T15:27:11.336362Z",
     "shell.execute_reply.started": "2024-04-21T15:27:11.326409Z",
     "shell.execute_reply": "2024-04-21T15:27:11.335725Z"
    },
    "trusted": true
   },
   "outputs": [],
   "execution_count": null
  },
  {
   "cell_type": "code",
   "source": "tokenizer.decode(result2[\"input_ids\"])",
   "metadata": {
    "papermill": {
     "duration": 0.02102,
     "end_time": "2023-06-28T07:18:37.123143",
     "exception": false,
     "start_time": "2023-06-28T07:18:37.102123",
     "status": "completed"
    },
    "tags": [],
    "execution": {
     "iopub.status.busy": "2024-04-21T15:27:11.337843Z",
     "iopub.execute_input": "2024-04-21T15:27:11.338107Z",
     "iopub.status.idle": "2024-04-21T15:27:11.349792Z",
     "shell.execute_reply.started": "2024-04-21T15:27:11.338081Z",
     "shell.execute_reply": "2024-04-21T15:27:11.348942Z"
    },
    "trusted": true
   },
   "outputs": [],
   "execution_count": null
  },
  {
   "cell_type": "code",
   "source": "max_sens = 32\n\ntrain = train.sort_values(\"label\").reset_index(drop=True)\n\ntrain[\"kfold\"] = train.index % 5\n\np_train = train[train[\"kfold\"]!=0].reset_index(drop=True)\np_valid = train[train[\"kfold\"]==0].reset_index(drop=True)\n\np_test=test.reset_index(drop=True)",
   "metadata": {
    "papermill": {
     "duration": 0.030376,
     "end_time": "2023-06-28T07:18:37.166117",
     "exception": false,
     "start_time": "2023-06-28T07:18:37.135741",
     "status": "completed"
    },
    "tags": [],
    "execution": {
     "iopub.status.busy": "2024-04-21T15:27:11.350926Z",
     "iopub.execute_input": "2024-04-21T15:27:11.351248Z",
     "iopub.status.idle": "2024-04-21T15:27:11.361283Z",
     "shell.execute_reply.started": "2024-04-21T15:27:11.351214Z",
     "shell.execute_reply": "2024-04-21T15:27:11.360591Z"
    },
    "trusted": true
   },
   "outputs": [],
   "execution_count": null
  },
  {
   "cell_type": "markdown",
   "source": "'token_type_ids' no need in RoBERTa/DeBERTa",
   "metadata": {
    "papermill": {
     "duration": 0.01246,
     "end_time": "2023-06-28T07:18:37.191756",
     "exception": false,
     "start_time": "2023-06-28T07:18:37.179296",
     "status": "completed"
    },
    "tags": []
   }
  },
  {
   "cell_type": "code",
   "source": "class BERTDataSet(Dataset):\n    \n    def __init__(self,sentences,targets):        \n        self.sentences = sentences\n        self.targets = targets\n        \n    def __len__(self):        \n        return len(self.sentences)\n    \n    def __getitem__(self,idx):        \n        sentence = self.sentences[idx]    \n        bert_sens = tokenizer.encode_plus(\n                                sentence,\n                                add_special_tokens = True, \n                                max_length = max_sens, \n                                pad_to_max_length = True, \n                                return_attention_mask = True)\n\n        ids = torch.tensor(bert_sens['input_ids'], dtype=torch.long)\n        mask = torch.tensor(bert_sens['attention_mask'], dtype=torch.long)\n\n        target = torch.tensor(self.targets[idx],dtype=torch.float)\n        \n        return {\n                'ids': ids,\n                'mask': mask,\n\n                'targets': target\n            }",
   "metadata": {
    "papermill": {
     "duration": 0.023548,
     "end_time": "2023-06-28T07:18:37.228036",
     "exception": false,
     "start_time": "2023-06-28T07:18:37.204488",
     "status": "completed"
    },
    "tags": [],
    "execution": {
     "iopub.status.busy": "2024-04-21T15:27:11.362223Z",
     "iopub.execute_input": "2024-04-21T15:27:11.362469Z",
     "iopub.status.idle": "2024-04-21T15:27:11.371986Z",
     "shell.execute_reply.started": "2024-04-21T15:27:11.362448Z",
     "shell.execute_reply": "2024-04-21T15:27:11.37122Z"
    },
    "trusted": true
   },
   "outputs": [],
   "execution_count": null
  },
  {
   "cell_type": "code",
   "source": [
    "train_dataset = BERTDataSet(p_train[\"text\"],p_train[\"label\"])\n",
    "valid_dataset = BERTDataSet(p_valid[\"text\"],p_valid[\"label\"])\n",
    "test_dataset = BERTDataSet(p_test[\"text\"],p_test[\"label\"])\n",
    "\n",
    "train_batch = 16\n",
    "valid_batch = 32\n",
    "test_batch = 32\n",
    "\n",
    "train_dataloader = DataLoader(train_dataset,batch_size=train_batch,shuffle = True, pin_memory=True)\n",
    "valid_dataloader = DataLoader(valid_dataset,batch_size=valid_batch,shuffle = False, pin_memory=True)\n",
    "test_dataloader = DataLoader(test_dataset,batch_size=test_batch,shuffle = False, pin_memory=True)"
   ],
   "metadata": {
    "papermill": {
     "duration": 0.023996,
     "end_time": "2023-06-28T07:18:37.264616",
     "exception": false,
     "start_time": "2023-06-28T07:18:37.24062",
     "status": "completed"
    },
    "tags": [],
    "execution": {
     "iopub.status.busy": "2024-04-21T15:27:11.373088Z",
     "iopub.execute_input": "2024-04-21T15:27:11.373525Z",
     "iopub.status.idle": "2024-04-21T15:27:11.382953Z",
     "shell.execute_reply.started": "2024-04-21T15:27:11.373494Z",
     "shell.execute_reply": "2024-04-21T15:27:11.382072Z"
    },
    "trusted": true
   },
   "outputs": [],
   "execution_count": null
  },
  {
   "cell_type": "code",
   "source": "model = transformers.RobertaForSequenceClassification.from_pretrained(\"roberta-base\",num_labels=1)\n#model = transformers.BertForSequenceClassification.from_pretrained(\"../input/bert-base-uncased\",num_labels=1)",
   "metadata": {
    "papermill": {
     "duration": 5.239221,
     "end_time": "2023-06-28T07:18:42.516586",
     "exception": false,
     "start_time": "2023-06-28T07:18:37.277365",
     "status": "completed"
    },
    "tags": [],
    "execution": {
     "iopub.status.busy": "2024-04-21T15:27:11.384056Z",
     "iopub.execute_input": "2024-04-21T15:27:11.384979Z",
     "iopub.status.idle": "2024-04-21T15:27:22.908743Z",
     "shell.execute_reply.started": "2024-04-21T15:27:11.384943Z",
     "shell.execute_reply": "2024-04-21T15:27:22.907975Z"
    },
    "trusted": true
   },
   "outputs": [],
   "execution_count": null
  },
  {
   "cell_type": "code",
   "source": "model.to(device)\nmodel.train()",
   "metadata": {
    "papermill": {
     "duration": 5.090094,
     "end_time": "2023-06-28T07:18:47.620511",
     "exception": false,
     "start_time": "2023-06-28T07:18:42.530417",
     "status": "completed"
    },
    "tags": [],
    "execution": {
     "iopub.status.busy": "2024-04-21T15:27:22.909926Z",
     "iopub.execute_input": "2024-04-21T15:27:22.910275Z",
     "iopub.status.idle": "2024-04-21T15:27:23.209704Z",
     "shell.execute_reply.started": "2024-04-21T15:27:22.910245Z",
     "shell.execute_reply": "2024-04-21T15:27:23.208753Z"
    },
    "trusted": true
   },
   "outputs": [],
   "execution_count": null
  },
  {
   "cell_type": "code",
   "source": [
    "for a in train_dataloader:\n",
    "    ids = a[\"ids\"].to(device)\n",
    "    mask = a[\"mask\"].to(device)\n",
    "\n",
    "    output = model(ids, mask)\n",
    "    break"
   ],
   "metadata": {
    "_kg_hide-output": true,
    "papermill": {
     "duration": 2.557418,
     "end_time": "2023-06-28T07:18:50.195121",
     "exception": false,
     "start_time": "2023-06-28T07:18:47.637703",
     "status": "completed"
    },
    "tags": [],
    "execution": {
     "iopub.status.busy": "2024-04-21T15:27:23.211096Z",
     "iopub.execute_input": "2024-04-21T15:27:23.211394Z",
     "iopub.status.idle": "2024-04-21T15:27:24.093806Z",
     "shell.execute_reply.started": "2024-04-21T15:27:23.211369Z",
     "shell.execute_reply": "2024-04-21T15:27:24.092767Z"
    },
    "trusted": true,
    "ExecuteTime": {
     "end_time": "2024-11-24T22:49:26.639873Z",
     "start_time": "2024-11-24T22:49:25.390476Z"
    }
   },
   "outputs": [
    {
     "name": "stderr",
     "output_type": "stream",
     "text": [
      "Traceback (most recent call last):\n",
      "  File \"<string>\", line 1, in <module>\n",
      "  File \"/Library/Frameworks/Python.framework/Versions/3.12/lib/python3.12/multiprocessing/spawn.py\", line 122, in spawn_main\n",
      "    exitcode = _main(fd, parent_sentinel)\n",
      "               ^^^^^^^^^^^^^^^^^^^^^^^^^^\n",
      "  File \"/Library/Frameworks/Python.framework/Versions/3.12/lib/python3.12/multiprocessing/spawn.py\", line 132, in _main\n",
      "    self = reduction.pickle.load(from_parent)\n",
      "           ^^^^^^^^^^^^^^^^^^^^^^^^^^^^^^^^^^\n",
      "AttributeError: Can't get attribute 'BERTDataSet' on <module '__main__' (<class '_frozen_importlib.BuiltinImporter'>)>\n",
      "Traceback (most recent call last):\n",
      "  File \"<string>\", line 1, in <module>\n",
      "  File \"/Library/Frameworks/Python.framework/Versions/3.12/lib/python3.12/multiprocessing/spawn.py\", line 122, in spawn_main\n",
      "    exitcode = _main(fd, parent_sentinel)\n",
      "               ^^^^^^^^^^^^^^^^^^^^^^^^^^\n",
      "  File \"/Library/Frameworks/Python.framework/Versions/3.12/lib/python3.12/multiprocessing/spawn.py\", line 132, in _main\n",
      "    self = reduction.pickle.load(from_parent)\n",
      "           ^^^^^^^^^^^^^^^^^^^^^^^^^^^^^^^^^^\n",
      "AttributeError: Can't get attribute 'BERTDataSet' on <module '__main__' (<class '_frozen_importlib.BuiltinImporter'>)>\n",
      "Traceback (most recent call last):\n",
      "  File \"<string>\", line 1, in <module>\n",
      "  File \"/Library/Frameworks/Python.framework/Versions/3.12/lib/python3.12/multiprocessing/spawn.py\", line 122, in spawn_main\n",
      "    exitcode = _main(fd, parent_sentinel)\n",
      "               ^^^^^^^^^^^^^^^^^^^^^^^^^^\n",
      "  File \"/Library/Frameworks/Python.framework/Versions/3.12/lib/python3.12/multiprocessing/spawn.py\", line 132, in _main\n",
      "    self = reduction.pickle.load(from_parent)\n",
      "           ^^^^^^^^^^^^^^^^^^^^^^^^^^^^^^^^^^\n",
      "AttributeError: Can't get attribute 'BERTDataSet' on <module '__main__' (<class '_frozen_importlib.BuiltinImporter'>)>\n",
      "Traceback (most recent call last):\n",
      "  File \"<string>\", line 1, in <module>\n",
      "  File \"/Library/Frameworks/Python.framework/Versions/3.12/lib/python3.12/multiprocessing/spawn.py\", line 122, in spawn_main\n",
      "    exitcode = _main(fd, parent_sentinel)\n",
      "               ^^^^^^^^^^^^^^^^^^^^^^^^^^\n",
      "  File \"/Library/Frameworks/Python.framework/Versions/3.12/lib/python3.12/multiprocessing/spawn.py\", line 132, in _main\n",
      "    self = reduction.pickle.load(from_parent)\n",
      "           ^^^^^^^^^^^^^^^^^^^^^^^^^^^^^^^^^^\n",
      "AttributeError: Can't get attribute 'BERTDataSet' on <module '__main__' (<class '_frozen_importlib.BuiltinImporter'>)>\n",
      "Traceback (most recent call last):\n",
      "  File \"<string>\", line 1, in <module>\n",
      "  File \"/Library/Frameworks/Python.framework/Versions/3.12/lib/python3.12/multiprocessing/spawn.py\", line 122, in spawn_main\n",
      "    exitcode = _main(fd, parent_sentinel)\n",
      "               ^^^^^^^^^^^^^^^^^^^^^^^^^^\n",
      "  File \"/Library/Frameworks/Python.framework/Versions/3.12/lib/python3.12/multiprocessing/spawn.py\", line 132, in _main\n",
      "    self = reduction.pickle.load(from_parent)\n",
      "           ^^^^^^^^^^^^^^^^^^^^^^^^^^^^^^^^^^\n",
      "AttributeError: Can't get attribute 'BERTDataSet' on <module '__main__' (<class '_frozen_importlib.BuiltinImporter'>)>\n",
      "Traceback (most recent call last):\n",
      "  File \"<string>\", line 1, in <module>\n",
      "  File \"/Library/Frameworks/Python.framework/Versions/3.12/lib/python3.12/multiprocessing/spawn.py\", line 122, in spawn_main\n",
      "    exitcode = _main(fd, parent_sentinel)\n",
      "               ^^^^^^^^^^^^^^^^^^^^^^^^^^\n",
      "  File \"/Library/Frameworks/Python.framework/Versions/3.12/lib/python3.12/multiprocessing/spawn.py\", line 132, in _main\n",
      "    self = reduction.pickle.load(from_parent)\n",
      "           ^^^^^^^^^^^^^^^^^^^^^^^^^^^^^^^^^^\n",
      "AttributeError: Can't get attribute 'BERTDataSet' on <module '__main__' (<class '_frozen_importlib.BuiltinImporter'>)>\n"
     ]
    },
    {
     "ename": "RuntimeError",
     "evalue": "DataLoader worker (pid(s) 81794) exited unexpectedly",
     "output_type": "error",
     "traceback": [
      "\u001B[0;31m---------------------------------------------------------------------------\u001B[0m",
      "\u001B[0;31mRuntimeError\u001B[0m                              Traceback (most recent call last)",
      "File \u001B[0;32m/Library/Frameworks/Python.framework/Versions/3.12/lib/python3.12/site-packages/torch/utils/data/dataloader.py:1243\u001B[0m, in \u001B[0;36m_MultiProcessingDataLoaderIter._try_get_data\u001B[0;34m(self, timeout)\u001B[0m\n\u001B[1;32m   1242\u001B[0m \u001B[38;5;28;01mtry\u001B[39;00m:\n\u001B[0;32m-> 1243\u001B[0m     data \u001B[38;5;241m=\u001B[39m \u001B[38;5;28;43mself\u001B[39;49m\u001B[38;5;241;43m.\u001B[39;49m\u001B[43m_data_queue\u001B[49m\u001B[38;5;241;43m.\u001B[39;49m\u001B[43mget\u001B[49m\u001B[43m(\u001B[49m\u001B[43mtimeout\u001B[49m\u001B[38;5;241;43m=\u001B[39;49m\u001B[43mtimeout\u001B[49m\u001B[43m)\u001B[49m\n\u001B[1;32m   1244\u001B[0m     \u001B[38;5;28;01mreturn\u001B[39;00m (\u001B[38;5;28;01mTrue\u001B[39;00m, data)\n",
      "File \u001B[0;32m/Library/Frameworks/Python.framework/Versions/3.12/lib/python3.12/multiprocessing/queues.py:113\u001B[0m, in \u001B[0;36mQueue.get\u001B[0;34m(self, block, timeout)\u001B[0m\n\u001B[1;32m    112\u001B[0m timeout \u001B[38;5;241m=\u001B[39m deadline \u001B[38;5;241m-\u001B[39m time\u001B[38;5;241m.\u001B[39mmonotonic()\n\u001B[0;32m--> 113\u001B[0m \u001B[38;5;28;01mif\u001B[39;00m \u001B[38;5;129;01mnot\u001B[39;00m \u001B[38;5;28;43mself\u001B[39;49m\u001B[38;5;241;43m.\u001B[39;49m\u001B[43m_poll\u001B[49m\u001B[43m(\u001B[49m\u001B[43mtimeout\u001B[49m\u001B[43m)\u001B[49m:\n\u001B[1;32m    114\u001B[0m     \u001B[38;5;28;01mraise\u001B[39;00m Empty\n",
      "File \u001B[0;32m/Library/Frameworks/Python.framework/Versions/3.12/lib/python3.12/multiprocessing/connection.py:257\u001B[0m, in \u001B[0;36m_ConnectionBase.poll\u001B[0;34m(self, timeout)\u001B[0m\n\u001B[1;32m    256\u001B[0m \u001B[38;5;28mself\u001B[39m\u001B[38;5;241m.\u001B[39m_check_readable()\n\u001B[0;32m--> 257\u001B[0m \u001B[38;5;28;01mreturn\u001B[39;00m \u001B[38;5;28;43mself\u001B[39;49m\u001B[38;5;241;43m.\u001B[39;49m\u001B[43m_poll\u001B[49m\u001B[43m(\u001B[49m\u001B[43mtimeout\u001B[49m\u001B[43m)\u001B[49m\n",
      "File \u001B[0;32m/Library/Frameworks/Python.framework/Versions/3.12/lib/python3.12/multiprocessing/connection.py:440\u001B[0m, in \u001B[0;36mConnection._poll\u001B[0;34m(self, timeout)\u001B[0m\n\u001B[1;32m    439\u001B[0m \u001B[38;5;28;01mdef\u001B[39;00m \u001B[38;5;21m_poll\u001B[39m(\u001B[38;5;28mself\u001B[39m, timeout):\n\u001B[0;32m--> 440\u001B[0m     r \u001B[38;5;241m=\u001B[39m \u001B[43mwait\u001B[49m\u001B[43m(\u001B[49m\u001B[43m[\u001B[49m\u001B[38;5;28;43mself\u001B[39;49m\u001B[43m]\u001B[49m\u001B[43m,\u001B[49m\u001B[43m \u001B[49m\u001B[43mtimeout\u001B[49m\u001B[43m)\u001B[49m\n\u001B[1;32m    441\u001B[0m     \u001B[38;5;28;01mreturn\u001B[39;00m \u001B[38;5;28mbool\u001B[39m(r)\n",
      "File \u001B[0;32m/Library/Frameworks/Python.framework/Versions/3.12/lib/python3.12/multiprocessing/connection.py:1136\u001B[0m, in \u001B[0;36mwait\u001B[0;34m(object_list, timeout)\u001B[0m\n\u001B[1;32m   1135\u001B[0m \u001B[38;5;28;01mwhile\u001B[39;00m \u001B[38;5;28;01mTrue\u001B[39;00m:\n\u001B[0;32m-> 1136\u001B[0m     ready \u001B[38;5;241m=\u001B[39m \u001B[43mselector\u001B[49m\u001B[38;5;241;43m.\u001B[39;49m\u001B[43mselect\u001B[49m\u001B[43m(\u001B[49m\u001B[43mtimeout\u001B[49m\u001B[43m)\u001B[49m\n\u001B[1;32m   1137\u001B[0m     \u001B[38;5;28;01mif\u001B[39;00m ready:\n",
      "File \u001B[0;32m/Library/Frameworks/Python.framework/Versions/3.12/lib/python3.12/selectors.py:415\u001B[0m, in \u001B[0;36m_PollLikeSelector.select\u001B[0;34m(self, timeout)\u001B[0m\n\u001B[1;32m    414\u001B[0m \u001B[38;5;28;01mtry\u001B[39;00m:\n\u001B[0;32m--> 415\u001B[0m     fd_event_list \u001B[38;5;241m=\u001B[39m \u001B[38;5;28;43mself\u001B[39;49m\u001B[38;5;241;43m.\u001B[39;49m\u001B[43m_selector\u001B[49m\u001B[38;5;241;43m.\u001B[39;49m\u001B[43mpoll\u001B[49m\u001B[43m(\u001B[49m\u001B[43mtimeout\u001B[49m\u001B[43m)\u001B[49m\n\u001B[1;32m    416\u001B[0m \u001B[38;5;28;01mexcept\u001B[39;00m \u001B[38;5;167;01mInterruptedError\u001B[39;00m:\n",
      "File \u001B[0;32m/Library/Frameworks/Python.framework/Versions/3.12/lib/python3.12/site-packages/torch/utils/data/_utils/signal_handling.py:73\u001B[0m, in \u001B[0;36m_set_SIGCHLD_handler.<locals>.handler\u001B[0;34m(signum, frame)\u001B[0m\n\u001B[1;32m     70\u001B[0m \u001B[38;5;28;01mdef\u001B[39;00m \u001B[38;5;21mhandler\u001B[39m(signum, frame):\n\u001B[1;32m     71\u001B[0m     \u001B[38;5;66;03m# This following call uses `waitid` with WNOHANG from C side. Therefore,\u001B[39;00m\n\u001B[1;32m     72\u001B[0m     \u001B[38;5;66;03m# Python can still get and update the process status successfully.\u001B[39;00m\n\u001B[0;32m---> 73\u001B[0m     \u001B[43m_error_if_any_worker_fails\u001B[49m\u001B[43m(\u001B[49m\u001B[43m)\u001B[49m\n\u001B[1;32m     74\u001B[0m     \u001B[38;5;28;01mif\u001B[39;00m previous_handler \u001B[38;5;129;01mis\u001B[39;00m \u001B[38;5;129;01mnot\u001B[39;00m \u001B[38;5;28;01mNone\u001B[39;00m:\n",
      "\u001B[0;31mRuntimeError\u001B[0m: DataLoader worker (pid 81794) exited unexpectedly with exit code 1. Details are lost due to multiprocessing. Rerunning with num_workers=0 may give better error trace.",
      "\nThe above exception was the direct cause of the following exception:\n",
      "\u001B[0;31mRuntimeError\u001B[0m                              Traceback (most recent call last)",
      "Cell \u001B[0;32mIn[31], line 1\u001B[0m\n\u001B[0;32m----> 1\u001B[0m \u001B[38;5;28;43;01mfor\u001B[39;49;00m\u001B[43m \u001B[49m\u001B[43ma\u001B[49m\u001B[43m \u001B[49m\u001B[38;5;129;43;01min\u001B[39;49;00m\u001B[43m \u001B[49m\u001B[43mtrain_dataloader\u001B[49m\u001B[43m:\u001B[49m\n\u001B[1;32m      2\u001B[0m \u001B[43m    \u001B[49m\u001B[43mids\u001B[49m\u001B[43m \u001B[49m\u001B[38;5;241;43m=\u001B[39;49m\u001B[43m \u001B[49m\u001B[43ma\u001B[49m\u001B[43m[\u001B[49m\u001B[38;5;124;43m\"\u001B[39;49m\u001B[38;5;124;43mids\u001B[39;49m\u001B[38;5;124;43m\"\u001B[39;49m\u001B[43m]\u001B[49m\u001B[38;5;241;43m.\u001B[39;49m\u001B[43mto\u001B[49m\u001B[43m(\u001B[49m\u001B[43mdevice\u001B[49m\u001B[43m)\u001B[49m\n\u001B[1;32m      3\u001B[0m \u001B[43m    \u001B[49m\u001B[43mmask\u001B[49m\u001B[43m \u001B[49m\u001B[38;5;241;43m=\u001B[39;49m\u001B[43m \u001B[49m\u001B[43ma\u001B[49m\u001B[43m[\u001B[49m\u001B[38;5;124;43m\"\u001B[39;49m\u001B[38;5;124;43mmask\u001B[39;49m\u001B[38;5;124;43m\"\u001B[39;49m\u001B[43m]\u001B[49m\u001B[38;5;241;43m.\u001B[39;49m\u001B[43mto\u001B[49m\u001B[43m(\u001B[49m\u001B[43mdevice\u001B[49m\u001B[43m)\u001B[49m\n",
      "File \u001B[0;32m/Library/Frameworks/Python.framework/Versions/3.12/lib/python3.12/site-packages/torch/utils/data/dataloader.py:701\u001B[0m, in \u001B[0;36m_BaseDataLoaderIter.__next__\u001B[0;34m(self)\u001B[0m\n\u001B[1;32m    698\u001B[0m \u001B[38;5;28;01mif\u001B[39;00m \u001B[38;5;28mself\u001B[39m\u001B[38;5;241m.\u001B[39m_sampler_iter \u001B[38;5;129;01mis\u001B[39;00m \u001B[38;5;28;01mNone\u001B[39;00m:\n\u001B[1;32m    699\u001B[0m     \u001B[38;5;66;03m# TODO(https://github.com/pytorch/pytorch/issues/76750)\u001B[39;00m\n\u001B[1;32m    700\u001B[0m     \u001B[38;5;28mself\u001B[39m\u001B[38;5;241m.\u001B[39m_reset()  \u001B[38;5;66;03m# type: ignore[call-arg]\u001B[39;00m\n\u001B[0;32m--> 701\u001B[0m data \u001B[38;5;241m=\u001B[39m \u001B[38;5;28;43mself\u001B[39;49m\u001B[38;5;241;43m.\u001B[39;49m\u001B[43m_next_data\u001B[49m\u001B[43m(\u001B[49m\u001B[43m)\u001B[49m\n\u001B[1;32m    702\u001B[0m \u001B[38;5;28mself\u001B[39m\u001B[38;5;241m.\u001B[39m_num_yielded \u001B[38;5;241m+\u001B[39m\u001B[38;5;241m=\u001B[39m \u001B[38;5;241m1\u001B[39m\n\u001B[1;32m    703\u001B[0m \u001B[38;5;28;01mif\u001B[39;00m (\n\u001B[1;32m    704\u001B[0m     \u001B[38;5;28mself\u001B[39m\u001B[38;5;241m.\u001B[39m_dataset_kind \u001B[38;5;241m==\u001B[39m _DatasetKind\u001B[38;5;241m.\u001B[39mIterable\n\u001B[1;32m    705\u001B[0m     \u001B[38;5;129;01mand\u001B[39;00m \u001B[38;5;28mself\u001B[39m\u001B[38;5;241m.\u001B[39m_IterableDataset_len_called \u001B[38;5;129;01mis\u001B[39;00m \u001B[38;5;129;01mnot\u001B[39;00m \u001B[38;5;28;01mNone\u001B[39;00m\n\u001B[1;32m    706\u001B[0m     \u001B[38;5;129;01mand\u001B[39;00m \u001B[38;5;28mself\u001B[39m\u001B[38;5;241m.\u001B[39m_num_yielded \u001B[38;5;241m>\u001B[39m \u001B[38;5;28mself\u001B[39m\u001B[38;5;241m.\u001B[39m_IterableDataset_len_called\n\u001B[1;32m    707\u001B[0m ):\n",
      "File \u001B[0;32m/Library/Frameworks/Python.framework/Versions/3.12/lib/python3.12/site-packages/torch/utils/data/dataloader.py:1448\u001B[0m, in \u001B[0;36m_MultiProcessingDataLoaderIter._next_data\u001B[0;34m(self)\u001B[0m\n\u001B[1;32m   1445\u001B[0m     \u001B[38;5;28;01mreturn\u001B[39;00m \u001B[38;5;28mself\u001B[39m\u001B[38;5;241m.\u001B[39m_process_data(data)\n\u001B[1;32m   1447\u001B[0m \u001B[38;5;28;01massert\u001B[39;00m \u001B[38;5;129;01mnot\u001B[39;00m \u001B[38;5;28mself\u001B[39m\u001B[38;5;241m.\u001B[39m_shutdown \u001B[38;5;129;01mand\u001B[39;00m \u001B[38;5;28mself\u001B[39m\u001B[38;5;241m.\u001B[39m_tasks_outstanding \u001B[38;5;241m>\u001B[39m \u001B[38;5;241m0\u001B[39m\n\u001B[0;32m-> 1448\u001B[0m idx, data \u001B[38;5;241m=\u001B[39m \u001B[38;5;28;43mself\u001B[39;49m\u001B[38;5;241;43m.\u001B[39;49m\u001B[43m_get_data\u001B[49m\u001B[43m(\u001B[49m\u001B[43m)\u001B[49m\n\u001B[1;32m   1449\u001B[0m \u001B[38;5;28mself\u001B[39m\u001B[38;5;241m.\u001B[39m_tasks_outstanding \u001B[38;5;241m-\u001B[39m\u001B[38;5;241m=\u001B[39m \u001B[38;5;241m1\u001B[39m\n\u001B[1;32m   1450\u001B[0m \u001B[38;5;28;01mif\u001B[39;00m \u001B[38;5;28mself\u001B[39m\u001B[38;5;241m.\u001B[39m_dataset_kind \u001B[38;5;241m==\u001B[39m _DatasetKind\u001B[38;5;241m.\u001B[39mIterable:\n\u001B[1;32m   1451\u001B[0m     \u001B[38;5;66;03m# Check for _IterableDatasetStopIteration\u001B[39;00m\n",
      "File \u001B[0;32m/Library/Frameworks/Python.framework/Versions/3.12/lib/python3.12/site-packages/torch/utils/data/dataloader.py:1412\u001B[0m, in \u001B[0;36m_MultiProcessingDataLoaderIter._get_data\u001B[0;34m(self)\u001B[0m\n\u001B[1;32m   1408\u001B[0m     \u001B[38;5;66;03m# In this case, `self._data_queue` is a `queue.Queue`,. But we don't\u001B[39;00m\n\u001B[1;32m   1409\u001B[0m     \u001B[38;5;66;03m# need to call `.task_done()` because we don't use `.join()`.\u001B[39;00m\n\u001B[1;32m   1410\u001B[0m \u001B[38;5;28;01melse\u001B[39;00m:\n\u001B[1;32m   1411\u001B[0m     \u001B[38;5;28;01mwhile\u001B[39;00m \u001B[38;5;28;01mTrue\u001B[39;00m:\n\u001B[0;32m-> 1412\u001B[0m         success, data \u001B[38;5;241m=\u001B[39m \u001B[38;5;28;43mself\u001B[39;49m\u001B[38;5;241;43m.\u001B[39;49m\u001B[43m_try_get_data\u001B[49m\u001B[43m(\u001B[49m\u001B[43m)\u001B[49m\n\u001B[1;32m   1413\u001B[0m         \u001B[38;5;28;01mif\u001B[39;00m success:\n\u001B[1;32m   1414\u001B[0m             \u001B[38;5;28;01mreturn\u001B[39;00m data\n",
      "File \u001B[0;32m/Library/Frameworks/Python.framework/Versions/3.12/lib/python3.12/site-packages/torch/utils/data/dataloader.py:1256\u001B[0m, in \u001B[0;36m_MultiProcessingDataLoaderIter._try_get_data\u001B[0;34m(self, timeout)\u001B[0m\n\u001B[1;32m   1254\u001B[0m \u001B[38;5;28;01mif\u001B[39;00m \u001B[38;5;28mlen\u001B[39m(failed_workers) \u001B[38;5;241m>\u001B[39m \u001B[38;5;241m0\u001B[39m:\n\u001B[1;32m   1255\u001B[0m     pids_str \u001B[38;5;241m=\u001B[39m \u001B[38;5;124m\"\u001B[39m\u001B[38;5;124m, \u001B[39m\u001B[38;5;124m\"\u001B[39m\u001B[38;5;241m.\u001B[39mjoin(\u001B[38;5;28mstr\u001B[39m(w\u001B[38;5;241m.\u001B[39mpid) \u001B[38;5;28;01mfor\u001B[39;00m w \u001B[38;5;129;01min\u001B[39;00m failed_workers)\n\u001B[0;32m-> 1256\u001B[0m     \u001B[38;5;28;01mraise\u001B[39;00m \u001B[38;5;167;01mRuntimeError\u001B[39;00m(\n\u001B[1;32m   1257\u001B[0m         \u001B[38;5;124mf\u001B[39m\u001B[38;5;124m\"\u001B[39m\u001B[38;5;124mDataLoader worker (pid(s) \u001B[39m\u001B[38;5;132;01m{\u001B[39;00mpids_str\u001B[38;5;132;01m}\u001B[39;00m\u001B[38;5;124m) exited unexpectedly\u001B[39m\u001B[38;5;124m\"\u001B[39m\n\u001B[1;32m   1258\u001B[0m     ) \u001B[38;5;28;01mfrom\u001B[39;00m \u001B[38;5;21;01me\u001B[39;00m\n\u001B[1;32m   1259\u001B[0m \u001B[38;5;28;01mif\u001B[39;00m \u001B[38;5;28misinstance\u001B[39m(e, queue\u001B[38;5;241m.\u001B[39mEmpty):\n\u001B[1;32m   1260\u001B[0m     \u001B[38;5;28;01mreturn\u001B[39;00m (\u001B[38;5;28;01mFalse\u001B[39;00m, \u001B[38;5;28;01mNone\u001B[39;00m)\n",
      "\u001B[0;31mRuntimeError\u001B[0m: DataLoader worker (pid(s) 81794) exited unexpectedly"
     ]
    }
   ],
   "execution_count": 31
  },
  {
   "cell_type": "code",
   "source": "output = output[\"logits\"].squeeze(-1).shape",
   "metadata": {
    "papermill": {
     "duration": 0.027307,
     "end_time": "2023-06-28T07:18:50.236812",
     "exception": false,
     "start_time": "2023-06-28T07:18:50.209505",
     "status": "completed"
    },
    "tags": [],
    "execution": {
     "iopub.status.busy": "2024-04-21T15:27:24.095141Z",
     "iopub.execute_input": "2024-04-21T15:27:24.095438Z",
     "iopub.status.idle": "2024-04-21T15:27:24.102328Z",
     "shell.execute_reply.started": "2024-04-21T15:27:24.095408Z",
     "shell.execute_reply": "2024-04-21T15:27:24.101496Z"
    },
    "trusted": true
   },
   "outputs": [],
   "execution_count": null
  },
  {
   "cell_type": "code",
   "source": "from transformers import AdamW\nLR=2e-5\noptimizer = AdamW(model.parameters(), LR,betas=(0.9, 0.999), weight_decay=1e-2) ",
   "metadata": {
    "papermill": {
     "duration": 0.033736,
     "end_time": "2023-06-28T07:18:50.284707",
     "exception": false,
     "start_time": "2023-06-28T07:18:50.250971",
     "status": "completed"
    },
    "tags": [],
    "execution": {
     "iopub.status.busy": "2024-04-21T15:27:24.103688Z",
     "iopub.execute_input": "2024-04-21T15:27:24.103928Z",
     "iopub.status.idle": "2024-04-21T15:27:24.123001Z",
     "shell.execute_reply.started": "2024-04-21T15:27:24.103907Z",
     "shell.execute_reply": "2024-04-21T15:27:24.122352Z"
    },
    "trusted": true
   },
   "outputs": [],
   "execution_count": null
  },
  {
   "cell_type": "markdown",
   "source": "# set epochs",
   "metadata": {}
  },
  {
   "cell_type": "code",
   "source": "from transformers import get_linear_schedule_with_warmup\nepochs = 30\nif debug:\n    epochs = 1\ntrain_steps = int(len(p_train)/train_batch*epochs)\nprint(train_steps)\nnum_steps = int(train_steps*0.1)\nscheduler = get_linear_schedule_with_warmup(optimizer, num_steps, train_steps)",
   "metadata": {
    "_kg_hide-output": true,
    "papermill": {
     "duration": 0.026503,
     "end_time": "2023-06-28T07:18:50.325816",
     "exception": false,
     "start_time": "2023-06-28T07:18:50.299313",
     "status": "completed"
    },
    "tags": [],
    "execution": {
     "iopub.status.busy": "2024-04-21T15:27:24.123934Z",
     "iopub.execute_input": "2024-04-21T15:27:24.124184Z",
     "iopub.status.idle": "2024-04-21T15:27:24.130037Z",
     "shell.execute_reply.started": "2024-04-21T15:27:24.124162Z",
     "shell.execute_reply": "2024-04-21T15:27:24.129018Z"
    },
    "trusted": true
   },
   "outputs": [],
   "execution_count": null
  },
  {
   "cell_type": "code",
   "source": "def loss_fn(output,target):\n    return torch.sqrt(nn.MSELoss()(output,target))",
   "metadata": {
    "papermill": {
     "duration": 0.024242,
     "end_time": "2023-06-28T07:18:50.365039",
     "exception": false,
     "start_time": "2023-06-28T07:18:50.340797",
     "status": "completed"
    },
    "tags": [],
    "execution": {
     "iopub.status.busy": "2024-04-21T15:27:24.131178Z",
     "iopub.execute_input": "2024-04-21T15:27:24.13148Z",
     "iopub.status.idle": "2024-04-21T15:27:24.138481Z",
     "shell.execute_reply.started": "2024-04-21T15:27:24.131451Z",
     "shell.execute_reply": "2024-04-21T15:27:24.137556Z"
    },
    "trusted": true
   },
   "outputs": [],
   "execution_count": null
  },
  {
   "cell_type": "markdown",
   "source": "# def training",
   "metadata": {
    "papermill": {
     "duration": 0.01495,
     "end_time": "2023-06-28T07:18:50.395109",
     "exception": false,
     "start_time": "2023-06-28T07:18:50.380159",
     "status": "completed"
    },
    "tags": []
   }
  },
  {
   "cell_type": "code",
   "source": "def training(\n    train_dataloader,\n    model,\n    optimizer,\n    scheduler\n):\n    \n    model.train()\n    torch.backends.cudnn.benchmark = True\n    allpreds = []\n    alltargets = []\n\n    for a in train_dataloader:\n\n        losses = []\n        optimizer.zero_grad()\n\n        with torch.cuda.amp.autocast():\n\n            ids = a[\"ids\"].to(device,non_blocking=True)\n            mask = a[\"mask\"].to(device,non_blocking=True)\n\n            output = model(ids,mask)\n            output = output[\"logits\"].squeeze(-1)\n            target = a[\"targets\"].to(device,non_blocking=True)\n            loss = loss_fn(output,target)\n\n            losses.append(loss.item())\n            allpreds.append(output.detach().cpu().numpy())\n            alltargets.append(target.detach().squeeze(-1).cpu().numpy())\n\n        scaler.scale(loss).backward() \n        scaler.step(optimizer) \n        scaler.update() \n        \n        del loss \n\n        scheduler.step() \n\n    allpreds = np.concatenate(allpreds)\n    alltargets = np.concatenate(alltargets)\n    losses = np.mean(losses)\n    train_rme_loss = np.sqrt(mean_squared_error(alltargets,allpreds))\n\n    return losses,train_rme_loss",
   "metadata": {
    "papermill": {
     "duration": 0.029401,
     "end_time": "2023-06-28T07:18:50.439727",
     "exception": false,
     "start_time": "2023-06-28T07:18:50.410326",
     "status": "completed"
    },
    "tags": [],
    "execution": {
     "iopub.status.busy": "2024-04-21T15:27:24.139598Z",
     "iopub.execute_input": "2024-04-21T15:27:24.139863Z",
     "iopub.status.idle": "2024-04-21T15:27:24.149616Z",
     "shell.execute_reply.started": "2024-04-21T15:27:24.13984Z",
     "shell.execute_reply": "2024-04-21T15:27:24.148819Z"
    },
    "trusted": true
   },
   "outputs": [],
   "execution_count": null
  },
  {
   "cell_type": "markdown",
   "source": "# def validating",
   "metadata": {
    "papermill": {
     "duration": 0.014228,
     "end_time": "2023-06-28T07:18:50.468625",
     "exception": false,
     "start_time": "2023-06-28T07:18:50.454397",
     "status": "completed"
    },
    "tags": []
   }
  },
  {
   "cell_type": "code",
   "source": "def validating(valid_dataloader,model):\n    \n    model.eval()\n    allpreds = []\n    alltargets = []\n\n    for a in valid_dataloader:\n        losses = []\n        with torch.no_grad():\n\n            ids = a[\"ids\"].to(device)\n            mask = a[\"mask\"].to(device)\n\n            output = model(ids,mask)\n            output = output[\"logits\"].squeeze(-1)\n            target = a[\"targets\"].to(device)\n            loss = loss_fn(output,target)\n            losses.append(loss.item())\n            allpreds.append(output.detach().cpu().numpy())\n            alltargets.append(target.detach().squeeze(-1).cpu().numpy())\n            \n            del loss\n\n    allpreds = np.concatenate(allpreds)\n    alltargets = np.concatenate(alltargets)\n    losses = np.mean(losses)\n    valid_rme_loss = np.sqrt(mean_squared_error(alltargets,allpreds))\n\n    return allpreds,losses,valid_rme_loss",
   "metadata": {
    "papermill": {
     "duration": 0.02798,
     "end_time": "2023-06-28T07:18:50.511175",
     "exception": false,
     "start_time": "2023-06-28T07:18:50.483195",
     "status": "completed"
    },
    "tags": [],
    "execution": {
     "iopub.status.busy": "2024-04-21T15:27:24.150802Z",
     "iopub.execute_input": "2024-04-21T15:27:24.151088Z",
     "iopub.status.idle": "2024-04-21T15:27:24.163516Z",
     "shell.execute_reply.started": "2024-04-21T15:27:24.151058Z",
     "shell.execute_reply": "2024-04-21T15:27:24.162696Z"
    },
    "trusted": true
   },
   "outputs": [],
   "execution_count": null
  },
  {
   "cell_type": "code",
   "source": "if debug2 == False:\n    for a in range(epochs):\n        for b in train_dataloader:\n            break\n\n    losses,train_rme_loss = training(train_dataloader,model,optimizer,scheduler)\n\n    for a in valid_dataloader:\n        break",
   "metadata": {
    "_kg_hide-output": true,
    "papermill": {
     "duration": 112.111069,
     "end_time": "2023-06-28T07:20:42.637548",
     "exception": false,
     "start_time": "2023-06-28T07:18:50.526479",
     "status": "completed"
    },
    "tags": [],
    "execution": {
     "iopub.status.busy": "2024-04-21T15:27:24.164664Z",
     "iopub.execute_input": "2024-04-21T15:27:24.164916Z",
     "iopub.status.idle": "2024-04-21T15:27:29.171863Z",
     "shell.execute_reply.started": "2024-04-21T15:27:24.164891Z",
     "shell.execute_reply": "2024-04-21T15:27:29.170817Z"
    },
    "trusted": true
   },
   "outputs": [],
   "execution_count": null
  },
  {
   "cell_type": "markdown",
   "source": "# Train and Validate",
   "metadata": {
    "papermill": {
     "duration": 0.016092,
     "end_time": "2023-06-28T07:20:42.670622",
     "exception": false,
     "start_time": "2023-06-28T07:20:42.65453",
     "status": "completed"
    },
    "tags": []
   }
  },
  {
   "cell_type": "code",
   "source": "trainlosses = []\nvallosses = []\nbestscore = None\ntrainscores = []\nvalidscores = []\n\nfor epoch in tqdm(range(epochs)):\n    \n    print(\"---------------\" + str(epoch) + \"start-------------\")\n    \n    trainloss,trainscore = training(train_dataloader,model,optimizer,scheduler)    \n    trainlosses.append(trainloss)\n    trainscores.append(trainscore)\n    \n    print(\"trainscore is \" + str(trainscore))\n    \n    preds,validloss,valscore=validating(valid_dataloader,model)    \n    vallosses.append(validloss)\n    validscores.append(valscore)\n    \n    print(\"valscore is \" + str(valscore))\n    \n    if bestscore is None:\n        bestscore = valscore\n        \n        print(\"Save first model\")\n        \n        state = {\n                        'state_dict': model.state_dict(),\n                        'optimizer_dict': optimizer.state_dict(),\n                        \"bestscore\":bestscore\n                    }\n            \n        torch.save(state, \"model0.pth\")\n        \n    elif bestscore > valscore:\n        \n        bestscore = valscore        \n        print(\"found better point\")        \n        state = {\n                        'state_dict': model.state_dict(),\n                        'optimizer_dict': optimizer.state_dict(),\n                        \"bestscore\":bestscore\n                    }\n            \n        torch.save(state, \"model0.pth\")\n        \n    else:\n        pass\n    ",
   "metadata": {
    "papermill": {
     "duration": 237.459602,
     "end_time": "2023-06-28T07:24:40.146621",
     "exception": false,
     "start_time": "2023-06-28T07:20:42.687019",
     "status": "completed"
    },
    "tags": [],
    "execution": {
     "iopub.status.busy": "2024-04-21T15:27:29.173749Z",
     "iopub.execute_input": "2024-04-21T15:27:29.174135Z",
     "iopub.status.idle": "2024-04-21T15:28:03.846473Z",
     "shell.execute_reply.started": "2024-04-21T15:27:29.174095Z",
     "shell.execute_reply": "2024-04-21T15:28:03.845402Z"
    },
    "trusted": true
   },
   "outputs": [],
   "execution_count": null
  },
  {
   "cell_type": "code",
   "source": "plt.scatter(p_valid['label'],preds, alpha=0.2)\nplt.title('Validation Prediction Result')\nplt.xlabel('Actual')\nplt.ylabel('Prediction')\nplt.show()\n\nx = np.arange(epochs)\nplt.title('Validation Losses')\nplt.xlabel('Epoch')\nplt.ylabel('Loss')\nplt.plot(x,trainlosses)\nplt.plot(x,vallosses)\nplt.show()\n\nx = np.arange(epochs)\nplt.title('Validation Scores')\nplt.xlabel('Epoch')\nplt.ylabel('Score')\nplt.plot(x,trainscores)\nplt.plot(x,validscores)\nplt.show()",
   "metadata": {
    "papermill": {
     "duration": 0.775119,
     "end_time": "2023-06-28T07:24:40.942226",
     "exception": false,
     "start_time": "2023-06-28T07:24:40.167107",
     "status": "completed"
    },
    "tags": [],
    "execution": {
     "iopub.status.busy": "2024-04-21T15:28:03.847986Z",
     "iopub.execute_input": "2024-04-21T15:28:03.848381Z",
     "iopub.status.idle": "2024-04-21T15:28:04.73517Z",
     "shell.execute_reply.started": "2024-04-21T15:28:03.848349Z",
     "shell.execute_reply": "2024-04-21T15:28:04.734256Z"
    },
    "trusted": true
   },
   "outputs": [],
   "execution_count": null
  },
  {
   "cell_type": "markdown",
   "source": "# save model",
   "metadata": {
    "papermill": {
     "duration": 0.020963,
     "end_time": "2023-06-28T07:24:41.06684",
     "exception": false,
     "start_time": "2023-06-28T07:24:41.045877",
     "status": "completed"
    },
    "tags": []
   }
  },
  {
   "cell_type": "code",
   "source": [
    "bestscores = []\n",
    "bestscores.append(bestscore)\n",
    "\n",
    "for fold in range(1,5):\n",
    "    \n",
    "    # initializing the data\n",
    "    p_train = train[train[\"kfold\"]!=fold].reset_index(drop=True)\n",
    "    p_valid = train[train[\"kfold\"]==fold].reset_index(drop=True)\n",
    "\n",
    "    train_dataset = BERTDataSet(p_train[\"text\"],p_train[\"label\"])\n",
    "    valid_dataset = BERTDataSet(p_valid[\"text\"],p_valid[\"label\"])\n",
    "\n",
    "    train_dataloader = DataLoader(train_dataset,batch_size=train_batch,shuffle = True, pin_memory=True)\n",
    "    valid_dataloader = DataLoader(valid_dataset,batch_size=valid_batch,shuffle = False, pin_memory=True)\n",
    "\n",
    "    model = transformers.RobertaForSequenceClassification.from_pretrained(\"roberta-base\",num_labels=1)\n",
    "\n",
    "    model.to(device)\n",
    "    LR=2e-5\n",
    "    optimizer = AdamW(model.parameters(), LR,betas=(0.9, 0.999), weight_decay=1e-2) # AdamW optimizer\n",
    "    train_steps = int(len(p_train)/train_batch*epochs)\n",
    "    num_steps = int(train_steps*0.1)\n",
    "    scheduler = get_linear_schedule_with_warmup(optimizer, num_steps, train_steps)\n",
    "\n",
    "    trainlosses = []\n",
    "    vallosses = []\n",
    "    bestscore = None\n",
    "    trainscores = []\n",
    "    validscores = []\n",
    "\n",
    "    for epoch in tqdm(range(epochs)):\n",
    "\n",
    "        print(\"---------------\" + str(epoch) + \"start-------------\")\n",
    "\n",
    "        trainloss,trainscore = training(train_dataloader,model,optimizer,scheduler)\n",
    "        trainlosses.append(trainloss)\n",
    "        trainscores.append(trainscore)\n",
    "\n",
    "        print(\"trainscore is \" + str(trainscore))\n",
    "\n",
    "        preds,validloss,valscore=validating(valid_dataloader,model)\n",
    "        vallosses.append(validloss)\n",
    "        validscores.append(valscore)\n",
    "\n",
    "        print(\"valscore is \" + str(valscore))\n",
    "\n",
    "        if bestscore is None:\n",
    "            bestscore = valscore\n",
    "\n",
    "            print(\"Save first model\")\n",
    "\n",
    "            state = {\n",
    "                            'state_dict': model.state_dict(),\n",
    "                            'optimizer_dict': optimizer.state_dict(),\n",
    "                            \"bestscore\":bestscore\n",
    "                        }\n",
    "\n",
    "            torch.save(state, \"model\" + str(fold) + \".pth\") \n",
    "\n",
    "        elif bestscore > valscore:\n",
    "            bestscore = valscore\n",
    "            print(\"found better point\")\n",
    "\n",
    "            state = {\n",
    "                            'state_dict': model.state_dict(),\n",
    "                            'optimizer_dict': optimizer.state_dict(),\n",
    "                            \"bestscore\":bestscore\n",
    "                        }\n",
    "            torch.save(state, \"model\"+ str(fold) + \".pth\")\n",
    "\n",
    "        else:\n",
    "            pass\n",
    "\n",
    "\n",
    "    bestscores.append(bestscore)"
   ],
   "metadata": {
    "_kg_hide-output": true,
    "papermill": {
     "duration": 969.305172,
     "end_time": "2023-06-28T07:40:50.393338",
     "exception": false,
     "start_time": "2023-06-28T07:24:41.088166",
     "status": "completed"
    },
    "tags": [],
    "execution": {
     "iopub.status.busy": "2024-04-21T15:28:04.736646Z",
     "iopub.execute_input": "2024-04-21T15:28:04.737019Z",
     "iopub.status.idle": "2024-04-21T15:29:18.000052Z",
     "shell.execute_reply.started": "2024-04-21T15:28:04.736983Z",
     "shell.execute_reply": "2024-04-21T15:29:17.998771Z"
    },
    "trusted": true
   },
   "outputs": [],
   "execution_count": null
  },
  {
   "cell_type": "code",
   "source": "bestscores",
   "metadata": {
    "papermill": {
     "duration": 0.04631,
     "end_time": "2023-06-28T07:40:50.474497",
     "exception": false,
     "start_time": "2023-06-28T07:40:50.428187",
     "status": "completed"
    },
    "tags": [],
    "execution": {
     "iopub.status.busy": "2024-04-21T15:29:18.002063Z",
     "iopub.execute_input": "2024-04-21T15:29:18.002462Z",
     "iopub.status.idle": "2024-04-21T15:29:18.010475Z",
     "shell.execute_reply.started": "2024-04-21T15:29:18.002418Z",
     "shell.execute_reply": "2024-04-21T15:29:18.009599Z"
    },
    "trusted": true
   },
   "outputs": [],
   "execution_count": null
  },
  {
   "cell_type": "code",
   "source": "np.mean(bestscores)\nprint(\"my cv is \" + str(np.mean(bestscores)))",
   "metadata": {
    "papermill": {
     "duration": 0.043282,
     "end_time": "2023-06-28T07:40:50.552707",
     "exception": false,
     "start_time": "2023-06-28T07:40:50.509425",
     "status": "completed"
    },
    "tags": [],
    "execution": {
     "iopub.status.busy": "2024-04-21T15:29:18.011748Z",
     "iopub.execute_input": "2024-04-21T15:29:18.01202Z",
     "iopub.status.idle": "2024-04-21T15:29:20.822635Z",
     "shell.execute_reply.started": "2024-04-21T15:29:18.011997Z",
     "shell.execute_reply": "2024-04-21T15:29:20.821515Z"
    },
    "trusted": true
   },
   "outputs": [],
   "execution_count": null
  },
  {
   "cell_type": "markdown",
   "source": "# def predicting\nnot use saved models",
   "metadata": {
    "papermill": {
     "duration": 0.031167,
     "end_time": "2023-06-28T07:40:50.615833",
     "exception": false,
     "start_time": "2023-06-28T07:40:50.584666",
     "status": "completed"
    },
    "tags": []
   }
  },
  {
   "cell_type": "code",
   "source": "def predicting(test_dataloader,model):\n    \n    model.to(device)\n    model.eval()   \n    allpreds = []\n    preds = []\n    allvalloss=0\n\n    with torch.no_grad():\n        for a in test_dataloader:\n\n            ids = a[\"ids\"].to(device)\n            mask = a[\"mask\"].to(device)\n\n            output = model(ids,mask)\n            output = output[\"logits\"].squeeze(-1)\n            preds.append(output.cpu().numpy())\n\n        preds = np.concatenate(preds)\n        allpreds.append(preds)\n\n    return allpreds",
   "metadata": {
    "papermill": {
     "duration": 0.043725,
     "end_time": "2023-06-28T07:40:50.691507",
     "exception": false,
     "start_time": "2023-06-28T07:40:50.647782",
     "status": "completed"
    },
    "tags": [],
    "execution": {
     "iopub.status.busy": "2024-04-21T15:29:20.824121Z",
     "iopub.execute_input": "2024-04-21T15:29:20.824508Z",
     "iopub.status.idle": "2024-04-21T15:29:20.833769Z",
     "shell.execute_reply.started": "2024-04-21T15:29:20.824463Z",
     "shell.execute_reply": "2024-04-21T15:29:20.832868Z"
    },
    "trusted": true
   },
   "outputs": [],
   "execution_count": null
  },
  {
   "cell_type": "markdown",
   "source": "# def predicting2\nuse saved models",
   "metadata": {
    "papermill": {
     "duration": 0.0315,
     "end_time": "2023-06-28T07:40:50.755384",
     "exception": false,
     "start_time": "2023-06-28T07:40:50.723884",
     "status": "completed"
    },
    "tags": []
   }
  },
  {
   "cell_type": "code",
   "source": "#model initialized\nmodel = transformers.RobertaForSequenceClassification.from_pretrained(\"roberta-base\",num_labels=1)\n\npthes = [os.path.join(\"./\",s) for s in os.listdir(\"./\") if \".pth\" in s]\n\ndef predicting2(\n    test_dataloader,\n    model,\n    pthes \n):\n\n    allpreds = []    \n    for pth in pthes:\n        \n        state = torch.load(pth)        \n        model.load_state_dict(state[\"state_dict\"])\n        model.to(device)\n        model.eval()      \n        preds = []\n        allvalloss=0\n\n        with torch.no_grad():\n\n            for a in test_dataloader:\n\n                ids = a[\"ids\"].to(device)\n                mask = a[\"mask\"].to(device)\n\n                output = model(ids,mask)\n                output = output[\"logits\"].squeeze(-1)\n                preds.append(output.cpu().numpy())\n\n            preds = np.concatenate(preds)           \n            allpreds.append(preds)\n\n    return allpreds",
   "metadata": {
    "_kg_hide-output": true,
    "papermill": {
     "duration": 2.258999,
     "end_time": "2023-06-28T07:40:53.047403",
     "exception": false,
     "start_time": "2023-06-28T07:40:50.788404",
     "status": "completed"
    },
    "tags": [],
    "execution": {
     "iopub.status.busy": "2024-04-21T15:29:20.83958Z",
     "iopub.execute_input": "2024-04-21T15:29:20.839877Z",
     "iopub.status.idle": "2024-04-21T15:29:22.259102Z",
     "shell.execute_reply.started": "2024-04-21T15:29:20.839853Z",
     "shell.execute_reply": "2024-04-21T15:29:22.258305Z"
    },
    "trusted": true
   },
   "outputs": [],
   "execution_count": null
  },
  {
   "cell_type": "markdown",
   "source": "# Predict",
   "metadata": {
    "papermill": {
     "duration": 0.05125,
     "end_time": "2023-06-28T07:40:53.153975",
     "exception": false,
     "start_time": "2023-06-28T07:40:53.102725",
     "status": "completed"
    },
    "tags": []
   }
  },
  {
   "cell_type": "code",
   "source": "#tpreds = predicting(test_dataloader,model)\ntpreds = predicting2(test_dataloader,model,pthes)",
   "metadata": {
    "papermill": {
     "duration": 71.891932,
     "end_time": "2023-06-28T07:42:05.088325",
     "exception": false,
     "start_time": "2023-06-28T07:40:53.196393",
     "status": "completed"
    },
    "tags": [],
    "execution": {
     "iopub.status.busy": "2024-04-21T15:29:22.260177Z",
     "iopub.execute_input": "2024-04-21T15:29:22.260435Z",
     "iopub.status.idle": "2024-04-21T15:29:30.45845Z",
     "shell.execute_reply.started": "2024-04-21T15:29:22.260412Z",
     "shell.execute_reply": "2024-04-21T15:29:30.457356Z"
    },
    "_kg_hide-output": true,
    "trusted": true
   },
   "outputs": [],
   "execution_count": null
  },
  {
   "cell_type": "markdown",
   "source": "# Prediction Result",
   "metadata": {}
  },
  {
   "cell_type": "code",
   "source": "test_pred = []\nfor p in tpreds[0]:\n    test_pred+=[p]",
   "metadata": {
    "execution": {
     "iopub.status.busy": "2024-04-21T15:29:30.46046Z",
     "iopub.execute_input": "2024-04-21T15:29:30.460891Z",
     "iopub.status.idle": "2024-04-21T15:29:30.465747Z",
     "shell.execute_reply.started": "2024-04-21T15:29:30.460858Z",
     "shell.execute_reply": "2024-04-21T15:29:30.4647Z"
    },
    "trusted": true
   },
   "outputs": [],
   "execution_count": null
  },
  {
   "cell_type": "code",
   "source": "plt.scatter(p_test['label'],test_pred, alpha=0.2)\nplt.title('Test Prediction Result')\nplt.xlabel('Actual')\nplt.ylabel('Prediction')\nplt.show()",
   "metadata": {
    "execution": {
     "iopub.status.busy": "2024-04-21T15:29:30.46695Z",
     "iopub.execute_input": "2024-04-21T15:29:30.467268Z",
     "iopub.status.idle": "2024-04-21T15:29:30.733329Z",
     "shell.execute_reply.started": "2024-04-21T15:29:30.467237Z",
     "shell.execute_reply": "2024-04-21T15:29:30.732391Z"
    },
    "trusted": true
   },
   "outputs": [],
   "execution_count": null
  },
  {
   "cell_type": "code",
   "source": "",
   "metadata": {},
   "outputs": [],
   "execution_count": null
  }
 ]
}
